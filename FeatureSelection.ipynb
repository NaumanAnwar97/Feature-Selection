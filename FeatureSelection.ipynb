{
 "cells": [
  {
   "cell_type": "markdown",
   "metadata": {},
   "source": [
    "## Nauman Anwar (22i-0123)\n",
    "## Forward Selection & Backward Elimination "
   ]
  },
  {
   "cell_type": "markdown",
   "metadata": {},
   "source": [
    "## House Prices - Advanced Regression Techniques\n",
    "Predict sales prices and practice feature engineering.\n",
    "#### About Dataset\n",
    " Ask a home buyer to describe their dream house, and they probably won't begin with the height of the basement ceiling or the proximity to an east-west railroad. But this playground competition's dataset proves that much more influences price negotiations than the number of bedrooms or a white-picket fence. With 79 explanatory variables describing (almost) every aspect of residential homes in Ames, Iowa, this competition challenges you to predict the final price of each home.\n",
    "\n",
    "dataset available at https://www.kaggle.com/competitions/house-prices-advanced-regression-techniques/overview"
   ]
  },
  {
   "cell_type": "markdown",
   "metadata": {},
   "source": [
    "#### Forward selection\n",
    "Forward selection is an iterative method in which we start with having no feature in the model. In each iteration, we keep adding the feature which best improves our model till an addition of a new variable does not improve the performance of the model."
   ]
  },
  {
   "cell_type": "code",
   "execution_count": 1,
   "metadata": {},
   "outputs": [],
   "source": [
    "import numpy as np # linear algebra\n",
    "import pandas as pd # data processing, CSV file I/O (e.g. pd.read_csv)\n",
    "import matplotlib.pyplot as plt\n",
    "import seaborn as sns"
   ]
  },
  {
   "cell_type": "code",
   "execution_count": 22,
   "metadata": {},
   "outputs": [],
   "source": [
    "# import the Santander customer satisfaction \n",
    "\n",
    "data = pd.read_csv('./train.csv', nrows=35000)\n"
   ]
  },
  {
   "cell_type": "code",
   "execution_count": 21,
   "metadata": {},
   "outputs": [
    {
     "data": {
      "text/plain": [
       "(1460, 38)"
      ]
     },
     "execution_count": 21,
     "metadata": {},
     "output_type": "execute_result"
    }
   ],
   "source": [
    "# check shape of training and test sets\n",
    "\n",
    "data.shape"
   ]
  },
  {
   "cell_type": "code",
   "execution_count": 14,
   "metadata": {},
   "outputs": [],
   "source": [
    "# step forward feature selection\n",
    "\n",
    "from sklearn.model_selection import train_test_split\n",
    "from sklearn.ensemble import RandomForestRegressor\n",
    "from sklearn.metrics import r2_score\n",
    "from mlxtend.feature_selection import SequentialFeatureSelector as SFS"
   ]
  },
  {
   "cell_type": "code",
   "execution_count": 19,
   "metadata": {},
   "outputs": [
    {
     "data": {
      "text/plain": [
       "(1460, 38)"
      ]
     },
     "execution_count": 19,
     "metadata": {},
     "output_type": "execute_result"
    }
   ],
   "source": [
    "# here for simplicity I will use only numerical variables\n",
    "# select numerical columns:\n",
    "\n",
    "numerics = ['int16', 'int32', 'int64', 'float16', 'float32', 'float64']\n",
    "numerical_vars = list(data.select_dtypes(include=numerics).columns)\n",
    "data = data[numerical_vars]\n",
    "data.shape"
   ]
  },
  {
   "cell_type": "code",
   "execution_count": 20,
   "metadata": {},
   "outputs": [
    {
     "data": {
      "text/plain": [
       "((1022, 37), (438, 37))"
      ]
     },
     "execution_count": 20,
     "metadata": {},
     "output_type": "execute_result"
    }
   ],
   "source": [
    "# separate train and test sets\n",
    "X_train, X_test, y_train, y_test = train_test_split(\n",
    "    data.drop(labels=['SalePrice'], axis=1),\n",
    "    data['SalePrice'],\n",
    "    test_size=0.3,\n",
    "    random_state=0)\n",
    "\n",
    "X_train.shape, X_test.shape"
   ]
  },
  {
   "cell_type": "code",
   "execution_count": 23,
   "metadata": {},
   "outputs": [
    {
     "name": "stdout",
     "output_type": "stream",
     "text": [
      "correlated features:  3\n"
     ]
    }
   ],
   "source": [
    "# find and remove correlated features\n",
    "def correlation(dataset, threshold):\n",
    "    col_corr = set()  # Set of all the names of correlated columns\n",
    "    corr_matrix = dataset.corr()\n",
    "    for i in range(len(corr_matrix.columns)):\n",
    "        for j in range(i):\n",
    "            if abs(corr_matrix.iloc[i, j]) > threshold: # we are interested in absolute coeff value\n",
    "                colname = corr_matrix.columns[i]  # getting the name of column\n",
    "                col_corr.add(colname)\n",
    "    return col_corr\n",
    "\n",
    "corr_features = correlation(X_train, 0.8)\n",
    "print('correlated features: ', len(set(corr_features)) )"
   ]
  },
  {
   "cell_type": "markdown",
   "metadata": {},
   "source": [
    "Here, we have identified correlated features by keeping the threshold at 0.8 or 80% among I.V's"
   ]
  },
  {
   "cell_type": "code",
   "execution_count": 24,
   "metadata": {},
   "outputs": [
    {
     "data": {
      "text/plain": [
       "((1022, 34), (438, 34))"
      ]
     },
     "execution_count": 24,
     "metadata": {},
     "output_type": "execute_result"
    }
   ],
   "source": [
    "# Removing correlated features \n",
    "X_train.drop(labels=corr_features, axis=1, inplace=True)\n",
    "X_test.drop(labels=corr_features, axis=1, inplace=True)\n",
    "\n",
    "X_train.shape, X_test.shape"
   ]
  },
  {
   "cell_type": "code",
   "execution_count": 25,
   "metadata": {},
   "outputs": [],
   "source": [
    "X_train.fillna(0, inplace=True)"
   ]
  },
  {
   "cell_type": "code",
   "execution_count": 26,
   "metadata": {},
   "outputs": [
    {
     "name": "stderr",
     "output_type": "stream",
     "text": [
      "\n",
      "[2023-10-03 00:56:50] Features: 1/10 -- score: 0.6687711501852845\n",
      "[2023-10-03 00:57:26] Features: 2/10 -- score: 0.7206834604220509\n",
      "[2023-10-03 00:58:11] Features: 3/10 -- score: 0.7468623330355473\n",
      "[2023-10-03 00:58:54] Features: 4/10 -- score: 0.7679817772047693\n",
      "[2023-10-03 00:59:37] Features: 5/10 -- score: 0.7714930945722646\n",
      "[2023-10-03 01:00:31] Features: 6/10 -- score: 0.7815862575939766\n",
      "[2023-10-03 01:01:59] Features: 7/10 -- score: 0.8236510506026145\n",
      "[2023-10-03 01:03:36] Features: 8/10 -- score: 0.8405074978646484\n",
      "[2023-10-03 01:05:14] Features: 9/10 -- score: 0.8488111620646994\n",
      "[2023-10-03 01:06:47] Features: 10/10 -- score: 0.853585222011951"
     ]
    }
   ],
   "source": [
    "# step forward feature selection\n",
    "\n",
    "from mlxtend.feature_selection import SequentialFeatureSelector as SFS\n",
    "\n",
    "sfs1 = SFS(RandomForestRegressor(), \n",
    "           k_features=10, \n",
    "           forward=True, \n",
    "           floating=False, \n",
    "           verbose=2,\n",
    "           scoring='r2',\n",
    "           cv=3)\n",
    "\n",
    "sfs1 = sfs1.fit(np.array(X_train), y_train)"
   ]
  },
  {
   "cell_type": "code",
   "execution_count": 31,
   "metadata": {},
   "outputs": [
    {
     "data": {
      "text/plain": [
       "(4, 5, 6, 9, 14, 16, 17, 19, 24, 32)"
      ]
     },
     "execution_count": 31,
     "metadata": {},
     "output_type": "execute_result"
    }
   ],
   "source": [
    "sfs1.k_feature_idx_"
   ]
  },
  {
   "cell_type": "code",
   "execution_count": 33,
   "metadata": {},
   "outputs": [
    {
     "data": {
      "text/plain": [
       "Index(['OverallQual', 'OverallCond', 'YearBuilt', 'BsmtFinSF1', '2ndFlrSF',\n",
       "       'GrLivArea', 'BsmtFullBath', 'FullBath', 'GarageCars', 'MoSold'],\n",
       "      dtype='object')"
      ]
     },
     "execution_count": 33,
     "metadata": {},
     "output_type": "execute_result"
    }
   ],
   "source": [
    "X_train.columns[list(sfs1.k_feature_idx_)]"
   ]
  },
  {
   "cell_type": "markdown",
   "metadata": {},
   "source": [
    "#### We can see that forward feature selection results in the above columns being selected from all the given columns."
   ]
  },
  {
   "cell_type": "markdown",
   "metadata": {},
   "source": [
    "## Backward Elimination\n",
    "\n",
    "In backward elimination, we start with all the features and removes the least significant feature at each iteration which improves the performance of the model. We repeat this until no improvement is observed on removal of features."
   ]
  },
  {
   "cell_type": "code",
   "execution_count": 35,
   "metadata": {},
   "outputs": [
    {
     "name": "stderr",
     "output_type": "stream",
     "text": [
      "\n",
      "[2023-10-03 01:18:21] Features: 33/10 -- score: 0.8559718337976711\n",
      "[2023-10-03 01:24:42] Features: 32/10 -- score: 0.8550439249082022\n",
      "[2023-10-03 01:29:51] Features: 31/10 -- score: 0.8564527157289809\n",
      "[2023-10-03 01:34:49] Features: 30/10 -- score: 0.8568093788113665\n",
      "[2023-10-03 01:40:34] Features: 29/10 -- score: 0.858351365124017\n",
      "[2023-10-03 01:44:50] Features: 28/10 -- score: 0.8600240559156228\n",
      "[2023-10-03 01:48:45] Features: 27/10 -- score: 0.8603260052075443\n",
      "[2023-10-03 01:52:49] Features: 26/10 -- score: 0.8603617910286333\n",
      "[2023-10-03 01:56:20] Features: 25/10 -- score: 0.8618478458865843\n",
      "[2023-10-03 01:59:20] Features: 24/10 -- score: 0.8618486620531406\n",
      "[2023-10-03 02:02:11] Features: 23/10 -- score: 0.8641185338466976\n",
      "[2023-10-03 02:04:51] Features: 22/10 -- score: 0.8649673286397933\n",
      "[2023-10-03 02:07:18] Features: 21/10 -- score: 0.8644207161272965\n",
      "[2023-10-03 02:09:32] Features: 20/10 -- score: 0.8659028631890133\n",
      "[2023-10-03 02:11:41] Features: 19/10 -- score: 0.8645649355018504\n",
      "[2023-10-03 02:13:41] Features: 18/10 -- score: 0.8605483599177988\n",
      "[2023-10-03 02:15:34] Features: 17/10 -- score: 0.8627090787065521\n",
      "[2023-10-03 02:17:22] Features: 16/10 -- score: 0.8612400298729623\n",
      "[2023-10-03 02:18:52] Features: 15/10 -- score: 0.856347029776788\n",
      "[2023-10-03 02:20:26] Features: 14/10 -- score: 0.8551289170405135\n",
      "[2023-10-03 02:21:58] Features: 13/10 -- score: 0.8530155253002438\n",
      "[2023-10-03 02:23:26] Features: 12/10 -- score: 0.8521332501649955\n",
      "[2023-10-03 02:24:37] Features: 11/10 -- score: 0.8510855859966237\n",
      "[2023-10-03 02:25:43] Features: 10/10 -- score: 0.844024924029111"
     ]
    }
   ],
   "source": [
    "# step backward feature elimination\n",
    "\n",
    "sfs1 = SFS(RandomForestRegressor(), \n",
    "           k_features=10, \n",
    "           forward=False, \n",
    "           floating=False, \n",
    "           verbose=2,\n",
    "           scoring='r2',\n",
    "           cv=3)\n",
    "\n",
    "sfs1 = sfs1.fit(np.array(X_train), y_train)"
   ]
  },
  {
   "cell_type": "code",
   "execution_count": 36,
   "metadata": {},
   "outputs": [
    {
     "data": {
      "text/plain": [
       "(4, 5, 6, 7, 11, 12, 14, 16, 19, 24)"
      ]
     },
     "execution_count": 36,
     "metadata": {},
     "output_type": "execute_result"
    }
   ],
   "source": [
    "sfs1.k_feature_idx_"
   ]
  },
  {
   "cell_type": "code",
   "execution_count": 37,
   "metadata": {},
   "outputs": [
    {
     "data": {
      "text/plain": [
       "Index(['OverallQual', 'OverallCond', 'YearBuilt', 'YearRemodAdd', 'BsmtUnfSF',\n",
       "       'TotalBsmtSF', '2ndFlrSF', 'GrLivArea', 'FullBath', 'GarageCars'],\n",
       "      dtype='object')"
      ]
     },
     "execution_count": 37,
     "metadata": {},
     "output_type": "execute_result"
    }
   ],
   "source": [
    "X_train.columns[list(sfs1.k_feature_idx_)]"
   ]
  },
  {
   "cell_type": "markdown",
   "metadata": {},
   "source": [
    "#### So, backward feature elimination results in the above 10 features being selected."
   ]
  },
  {
   "cell_type": "markdown",
   "metadata": {},
   "source": [
    "# The End"
   ]
  }
 ],
 "metadata": {
  "kernelspec": {
   "display_name": "Python 3",
   "language": "python",
   "name": "python3"
  },
  "language_info": {
   "codemirror_mode": {
    "name": "ipython",
    "version": 3
   },
   "file_extension": ".py",
   "mimetype": "text/x-python",
   "name": "python",
   "nbconvert_exporter": "python",
   "pygments_lexer": "ipython3",
   "version": "3.10.11"
  },
  "orig_nbformat": 4
 },
 "nbformat": 4,
 "nbformat_minor": 2
}
